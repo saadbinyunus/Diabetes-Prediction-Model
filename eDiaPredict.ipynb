{
 "cells": [
  {
   "cell_type": "markdown",
   "metadata": {},
   "source": [
    "Import Libraries"
   ]
  },
  {
   "cell_type": "code",
   "execution_count": 18,
   "metadata": {},
   "outputs": [
    {
     "name": "stdout",
     "output_type": "stream",
     "text": [
      "Requirement already satisfied: statsmodels in c:\\users\\connor\\appdata\\local\\packages\\pythonsoftwarefoundation.python.3.9_qbz5n2kfra8p0\\localcache\\local-packages\\python39\\site-packages (0.14.4)\n",
      "Requirement already satisfied: pandas!=2.1.0,>=1.4 in c:\\users\\connor\\appdata\\local\\packages\\pythonsoftwarefoundation.python.3.9_qbz5n2kfra8p0\\localcache\\local-packages\\python39\\site-packages (from statsmodels) (1.5.2)\n",
      "Requirement already satisfied: numpy<3,>=1.22.3 in c:\\users\\connor\\appdata\\local\\packages\\pythonsoftwarefoundation.python.3.9_qbz5n2kfra8p0\\localcache\\local-packages\\python39\\site-packages (from statsmodels) (1.23.5)\n",
      "Requirement already satisfied: packaging>=21.3 in c:\\users\\connor\\appdata\\local\\packages\\pythonsoftwarefoundation.python.3.9_qbz5n2kfra8p0\\localcache\\local-packages\\python39\\site-packages (from statsmodels) (22.0)\n",
      "Requirement already satisfied: scipy!=1.9.2,>=1.8 in c:\\users\\connor\\appdata\\local\\packages\\pythonsoftwarefoundation.python.3.9_qbz5n2kfra8p0\\localcache\\local-packages\\python39\\site-packages (from statsmodels) (1.9.3)\n",
      "Requirement already satisfied: patsy>=0.5.6 in c:\\users\\connor\\appdata\\local\\packages\\pythonsoftwarefoundation.python.3.9_qbz5n2kfra8p0\\localcache\\local-packages\\python39\\site-packages (from statsmodels) (0.5.6)\n",
      "Requirement already satisfied: python-dateutil>=2.8.1 in c:\\users\\connor\\appdata\\local\\packages\\pythonsoftwarefoundation.python.3.9_qbz5n2kfra8p0\\localcache\\local-packages\\python39\\site-packages (from pandas!=2.1.0,>=1.4->statsmodels) (2.8.2)\n",
      "Requirement already satisfied: pytz>=2020.1 in c:\\users\\connor\\appdata\\local\\packages\\pythonsoftwarefoundation.python.3.9_qbz5n2kfra8p0\\localcache\\local-packages\\python39\\site-packages (from pandas!=2.1.0,>=1.4->statsmodels) (2022.6)\n",
      "Requirement already satisfied: six in c:\\users\\connor\\appdata\\local\\packages\\pythonsoftwarefoundation.python.3.9_qbz5n2kfra8p0\\localcache\\local-packages\\python39\\site-packages (from patsy>=0.5.6->statsmodels) (1.16.0)\n"
     ]
    },
    {
     "name": "stderr",
     "output_type": "stream",
     "text": [
      "\n",
      "[notice] A new release of pip available: 22.3.1 -> 25.0.1\n",
      "[notice] To update, run: C:\\Users\\Connor\\AppData\\Local\\Microsoft\\WindowsApps\\PythonSoftwareFoundation.Python.3.9_qbz5n2kfra8p0\\python.exe -m pip install --upgrade pip\n"
     ]
    }
   ],
   "source": [
    "# Install statsmodels\n",
    "!pip install statsmodels\n",
    "\n",
    "#Installation of required libraries\n",
    "import numpy as np\n",
    "import pandas as pd \n",
    "import statsmodels.api as sm\n",
    "import seaborn as sns\n",
    "import matplotlib.pyplot as plt\n",
    "from sklearn.preprocessing import scale, StandardScaler\n",
    "from sklearn.model_selection import train_test_split, GridSearchCV, cross_val_score\n",
    "from sklearn.metrics import confusion_matrix, accuracy_score, mean_squared_error, r2_score, roc_auc_score, roc_curve, classification_report\n",
    "from sklearn.linear_model import LogisticRegression\n",
    "from sklearn.neighbors import KNeighborsClassifier\n",
    "from sklearn.svm import SVC\n",
    "from sklearn.neural_network import MLPClassifier\n",
    "from sklearn.tree import DecisionTreeClassifier\n",
    "from sklearn.ensemble import RandomForestClassifier\n",
    "from sklearn.ensemble import GradientBoostingClassifier\n",
    "from lightgbm import LGBMClassifier\n",
    "from sklearn.model_selection import KFold\n",
    "import warnings\n",
    "warnings.simplefilter(action = \"ignore\") "
   ]
  },
  {
   "cell_type": "markdown",
   "metadata": {},
   "source": [
    "Import Dataset"
   ]
  },
  {
   "cell_type": "code",
   "execution_count": 11,
   "metadata": {},
   "outputs": [
    {
     "name": "stdout",
     "output_type": "stream",
     "text": [
      "<class 'pandas.core.frame.DataFrame'>\n",
      "RangeIndex: 768 entries, 0 to 767\n",
      "Data columns (total 9 columns):\n",
      " #   Column                    Non-Null Count  Dtype  \n",
      "---  ------                    --------------  -----  \n",
      " 0   Pregnancies               768 non-null    int64  \n",
      " 1   Glucose                   768 non-null    int64  \n",
      " 2   BloodPressure             768 non-null    int64  \n",
      " 3   SkinThickness             768 non-null    int64  \n",
      " 4   Insulin                   768 non-null    int64  \n",
      " 5   BMI                       768 non-null    float64\n",
      " 6   DiabetesPedigreeFunction  768 non-null    float64\n",
      " 7   Age                       768 non-null    int64  \n",
      " 8   Outcome                   768 non-null    int64  \n",
      "dtypes: float64(2), int64(7)\n",
      "memory usage: 54.1 KB\n"
     ]
    }
   ],
   "source": [
    "#Reading the dataset\n",
    "df = pd.read_csv(\"data/diabetes.csv\")\n",
    "# The first 5 observation units of the data set were accessed.\n",
    "df.head()\n",
    "# The size of the data set was examined. It consists of 768 observation units and 9 variables.\n",
    "df.shape\n",
    "#Feature information\n",
    "df.info()"
   ]
  },
  {
   "cell_type": "markdown",
   "metadata": {},
   "source": [
    "Data Preprocessing"
   ]
  },
  {
   "cell_type": "code",
   "execution_count": 12,
   "metadata": {},
   "outputs": [
    {
     "data": {
      "text/plain": [
       "0    1\n",
       "1    0\n",
       "2    1\n",
       "3    0\n",
       "4    1\n",
       "Name: Outcome, dtype: int64"
      ]
     },
     "execution_count": 12,
     "metadata": {},
     "output_type": "execute_result"
    }
   ],
   "source": [
    "y = df[\"Outcome\"]\n",
    "y.head()"
   ]
  },
  {
   "cell_type": "code",
   "execution_count": 13,
   "metadata": {},
   "outputs": [
    {
     "data": {
      "text/html": [
       "<div>\n",
       "<style scoped>\n",
       "    .dataframe tbody tr th:only-of-type {\n",
       "        vertical-align: middle;\n",
       "    }\n",
       "\n",
       "    .dataframe tbody tr th {\n",
       "        vertical-align: top;\n",
       "    }\n",
       "\n",
       "    .dataframe thead th {\n",
       "        text-align: right;\n",
       "    }\n",
       "</style>\n",
       "<table border=\"1\" class=\"dataframe\">\n",
       "  <thead>\n",
       "    <tr style=\"text-align: right;\">\n",
       "      <th></th>\n",
       "      <th>Pregnancies</th>\n",
       "      <th>Glucose</th>\n",
       "      <th>BloodPressure</th>\n",
       "      <th>SkinThickness</th>\n",
       "      <th>Insulin</th>\n",
       "      <th>BMI</th>\n",
       "      <th>DiabetesPedigreeFunction</th>\n",
       "      <th>Age</th>\n",
       "    </tr>\n",
       "  </thead>\n",
       "  <tbody>\n",
       "    <tr>\n",
       "      <th>0</th>\n",
       "      <td>6</td>\n",
       "      <td>148</td>\n",
       "      <td>72</td>\n",
       "      <td>35</td>\n",
       "      <td>0</td>\n",
       "      <td>33.6</td>\n",
       "      <td>0.627</td>\n",
       "      <td>50</td>\n",
       "    </tr>\n",
       "    <tr>\n",
       "      <th>1</th>\n",
       "      <td>1</td>\n",
       "      <td>85</td>\n",
       "      <td>66</td>\n",
       "      <td>29</td>\n",
       "      <td>0</td>\n",
       "      <td>26.6</td>\n",
       "      <td>0.351</td>\n",
       "      <td>31</td>\n",
       "    </tr>\n",
       "    <tr>\n",
       "      <th>2</th>\n",
       "      <td>8</td>\n",
       "      <td>183</td>\n",
       "      <td>64</td>\n",
       "      <td>0</td>\n",
       "      <td>0</td>\n",
       "      <td>23.3</td>\n",
       "      <td>0.672</td>\n",
       "      <td>32</td>\n",
       "    </tr>\n",
       "    <tr>\n",
       "      <th>3</th>\n",
       "      <td>1</td>\n",
       "      <td>89</td>\n",
       "      <td>66</td>\n",
       "      <td>23</td>\n",
       "      <td>94</td>\n",
       "      <td>28.1</td>\n",
       "      <td>0.167</td>\n",
       "      <td>21</td>\n",
       "    </tr>\n",
       "    <tr>\n",
       "      <th>4</th>\n",
       "      <td>0</td>\n",
       "      <td>137</td>\n",
       "      <td>40</td>\n",
       "      <td>35</td>\n",
       "      <td>168</td>\n",
       "      <td>43.1</td>\n",
       "      <td>2.288</td>\n",
       "      <td>33</td>\n",
       "    </tr>\n",
       "  </tbody>\n",
       "</table>\n",
       "</div>"
      ],
      "text/plain": [
       "   Pregnancies  Glucose  BloodPressure  SkinThickness  Insulin   BMI  \\\n",
       "0            6      148             72             35        0  33.6   \n",
       "1            1       85             66             29        0  26.6   \n",
       "2            8      183             64              0        0  23.3   \n",
       "3            1       89             66             23       94  28.1   \n",
       "4            0      137             40             35      168  43.1   \n",
       "\n",
       "   DiabetesPedigreeFunction  Age  \n",
       "0                     0.627   50  \n",
       "1                     0.351   31  \n",
       "2                     0.672   32  \n",
       "3                     0.167   21  \n",
       "4                     2.288   33  "
      ]
     },
     "execution_count": 13,
     "metadata": {},
     "output_type": "execute_result"
    }
   ],
   "source": [
    "X = df.drop([\"Outcome\"], axis = 1)\n",
    "X.head()"
   ]
  },
  {
   "cell_type": "markdown",
   "metadata": {},
   "source": [
    "Base Models"
   ]
  },
  {
   "cell_type": "code",
   "execution_count": 39,
   "metadata": {},
   "outputs": [
    {
     "name": "stdout",
     "output_type": "stream",
     "text": [
      "Logistic Regression trained successfully!\n",
      "K-Nearest Neighbors trained successfully!\n",
      "Decision Tree trained successfully!\n",
      "Random Forest trained successfully!\n",
      "Support Vector Machine trained successfully!\n",
      "Gradient Boosting (XGB) trained successfully!\n"
     ]
    }
   ],
   "source": [
    "# Splitting data (assuming X and y are already defined)\n",
    "X_train, X_test, y_train, y_test = train_test_split(X, y, test_size=0.2, random_state=12345)\n",
    "\n",
    "# Define models\n",
    "models = {\n",
    "    'Logistic Regression': LogisticRegression(random_state=12345),\n",
    "    'K-Nearest Neighbors': KNeighborsClassifier(),\n",
    "    'Decision Tree': DecisionTreeClassifier(random_state=12345),\n",
    "    'Random Forest': RandomForestClassifier(random_state=12345),\n",
    "    'Support Vector Machine': SVC(gamma='auto', random_state=12345),\n",
    "    'Gradient Boosting (XGB)': GradientBoostingClassifier(random_state=12345)\n",
    "}\n",
    "\n",
    "# Train all models\n",
    "trained_models = {}\n",
    "for name, model in models.items():\n",
    "    model.fit(X_train, y_train)  # Train the model\n",
    "    trained_models[name] = model # Store trained model\n",
    "    print(f\"{name} trained successfully!\")\n"
   ]
  },
  {
   "cell_type": "code",
   "execution_count": 40,
   "metadata": {},
   "outputs": [
    {
     "name": "stdout",
     "output_type": "stream",
     "text": [
      "\n",
      "Single Entry Predictions:\n",
      "Logistic Regression: Predicted=0, Actual=0\n",
      "K-Nearest Neighbors: Predicted=0, Actual=0\n",
      "Decision Tree: Predicted=0, Actual=0\n",
      "Random Forest: Predicted=0, Actual=0\n",
      "Support Vector Machine: Predicted=0, Actual=0\n",
      "Gradient Boosting (XGB): Predicted=0, Actual=0\n"
     ]
    }
   ],
   "source": [
    "# Select a single test entry\n",
    "single_entry = X_test.iloc[0:1]  # Keep DataFrame format\n",
    "actual_label = y_test.iloc[0]    # Get actual label\n",
    "\n",
    "# Evaluate single entry with each model\n",
    "print(\"\\nSingle Entry Predictions:\")\n",
    "for name, model in trained_models.items():\n",
    "    predicted_label = model.predict(single_entry)\n",
    "    print(f\"{name}: Predicted={predicted_label[0]}, Actual={actual_label}\")"
   ]
  },
  {
   "cell_type": "code",
   "execution_count": 43,
   "metadata": {},
   "outputs": [
    {
     "name": "stdout",
     "output_type": "stream",
     "text": [
      "\n",
      "Model Predictions on Multiple Test Entries:\n",
      "Sample Index Actual Logistic Regression K-Nearest Neighbors Decision Tree Random Forest Support Vector Machine Gradient Boosting (XGB)\n",
      "          68      0                   0                   0             0             0                      0                       0\n",
      "         308      1                   0                   0             0             0                      0                       1\n",
      "         375      1                   1                   0             1             1                      0                       1\n",
      "         498      1                   1                   1             1             1                      0                       1\n",
      "         188      1                   0                   0             1             0                      0                       1\n",
      "         150      0                   0                   0             0             0                      0                       0\n",
      "         311      0                   0                   0             0             0                      0                       0\n",
      "         563      0                   0                   0             0             0                      0                       0\n",
      "         258      0                   1                   1             0             0                      0                       1\n",
      "         254      1                   0                   0             1             0                      0                       1\n"
     ]
    }
   ],
   "source": [
    "# Select multiple test entries\n",
    "num_samples = 10  # Change this to however many samples you want to test\n",
    "X_samples = X_test.iloc[:num_samples]  # Select the first `num_samples` entries\n",
    "y_samples = y_test.iloc[:num_samples]  # Get corresponding actual labels\n",
    "\n",
    "# Create a DataFrame to store results\n",
    "results_df = pd.DataFrame(columns=['Sample Index', 'Actual'] + list(trained_models.keys()))\n",
    "\n",
    "# Evaluate multiple entries with each model\n",
    "for i, (idx, actual_label) in enumerate(y_samples.items()):\n",
    "    row = {'Sample Index': idx, 'Actual': actual_label}  # Store sample index and actual label\n",
    "    for name, model in trained_models.items():\n",
    "        predicted_label = model.predict([X_samples.iloc[i]])[0]  # Predict for one row\n",
    "        row[name] = predicted_label  # Store prediction\n",
    "    results_df = results_df.append(row, ignore_index=True)  # Append to results DataFrame\n",
    "\n",
    "# Print results\n",
    "print(\"\\nModel Predictions on Multiple Test Entries:\")\n",
    "print(results_df.to_string(index=False))  # Print without DataFrame index\n",
    "\n",
    "results_df.to_csv(\"model_predictions.csv\", index=False)"
   ]
  },
  {
   "cell_type": "code",
   "execution_count": null,
   "metadata": {},
   "outputs": [],
   "source": [
    "from sklearn.ensemble import VotingClassifier\n",
    "from sklearn.preprocessing import StandardScaler\n",
    "\n",
    "# Split dataset (assumes X and y are defined)\n",
    "X_train, X_test, y_train, y_test = train_test_split(X, y, test_size=0.2, stratify=y, random_state=12345)\n",
    "\n",
    "# Scale features for better performance\n",
    "scaler = StandardScaler()\n",
    "X_train = scaler.fit_transform(X_train)\n",
    "X_test = scaler.transform(X_test)\n",
    "\n",
    "# Define individual models\n",
    "models = [\n",
    "    ('LR', LogisticRegression(random_state=12345)),\n",
    "    ('KNN', KNeighborsClassifier()),\n",
    "    ('CART', DecisionTreeClassifier(random_state=12345)),\n",
    "    ('RF', RandomForestClassifier(n_estimators=200, random_state=12345)),\n",
    "    ('SVM', SVC(gamma='auto', random_state=12345)),\n",
    "    ('XGB', GradientBoostingClassifier(n_estimators=200, random_state=12345))\n",
    "]\n",
    "\n",
    "# Create a Voting Classifier with majority voting\n",
    "voting_clf = VotingClassifier(estimators=models, voting='hard')  # 'hard' for majority vote\n",
    "voting_clf.fit(X_train, y_train)\n",
    "\n",
    "# Get predictions for multiple test samples\n",
    "num_samples = 10  # Change this to however many test samples you want\n",
    "X_samples = X_test[:num_samples]\n",
    "y_samples = y_test[:num_samples]\n",
    "\n",
    "# Store results in a DataFrame\n",
    "results_df = pd.DataFrame(columns=['Sample Index', 'Actual', 'Final Prediction'])\n",
    "\n",
    "# Evaluate and print results\n",
    "for i, (idx, actual_label) in enumerate(y_samples.items()):\n",
    "    final_prediction = voting_clf.predict([X_samples[i]])[0]  # Get majority vote prediction\n",
    "    row = {'Sample Index': idx, 'Actual': actual_label, 'Final Prediction': final_prediction}\n",
    "    results_df = results_df.append(row, ignore_index=True)\n",
    "\n",
    "# Print results\n",
    "print(\"\\nMajority Vote Predictions:\")\n",
    "print(results_df.to_string(index=False))  # Print nicely formatted table\n"
   ]
  }
 ],
 "metadata": {
  "kernelspec": {
   "display_name": "Python 3",
   "language": "python",
   "name": "python3"
  },
  "language_info": {
   "codemirror_mode": {
    "name": "ipython",
    "version": 3
   },
   "file_extension": ".py",
   "mimetype": "text/x-python",
   "name": "python",
   "nbconvert_exporter": "python",
   "pygments_lexer": "ipython3",
   "version": "3.9.13"
  }
 },
 "nbformat": 4,
 "nbformat_minor": 2
}
